{
 "cells": [
  {
   "cell_type": "markdown",
   "metadata": {},
   "source": [
    "# Model Training"
   ]
  },
  {
   "cell_type": "code",
   "execution_count": 1,
   "metadata": {},
   "outputs": [],
   "source": [
    "import pandas as pd\n",
    "import sys\n",
    "sys.path.append('../')\n",
    "from utils.machine_learning import preprocess_pipeline, evaluate_models, visualize_roc_curves, visualize_confusion_matrix, initiate_model_trainer"
   ]
  },
  {
   "cell_type": "markdown",
   "metadata": {},
   "source": [
    "# Data"
   ]
  },
  {
   "cell_type": "code",
   "execution_count": 3,
   "metadata": {},
   "outputs": [],
   "source": [
    "df_original = pd.read_csv(\"./Ml_Datasets/original.csv\")\n",
    "df_all = pd.read_csv(\"./Ml_Datasets/all_features.csv\")\n",
    "df_new = pd.read_csv(\"./Ml_Datasets/new_features.csv\")"
   ]
  },
  {
   "cell_type": "markdown",
   "metadata": {},
   "source": [
    "# Preprocessing the Data"
   ]
  },
  {
   "cell_type": "code",
   "execution_count": 4,
   "metadata": {},
   "outputs": [],
   "source": [
    "X_train_original, X_test_original, y_train_original, y_test_original = preprocess_pipeline(df_original, test_size=0.3, target_name=\"target\")\n",
    "X_train_all, X_test_all, y_train_all, y_test_all = preprocess_pipeline(df_all, test_size=0.3, target_name=\"target\")\n",
    "X_train_new, X_test_new, y_train_new, y_test_new = preprocess_pipeline(df_new, test_size=0.3, target_name=\"target\")"
   ]
  },
  {
   "cell_type": "markdown",
   "metadata": {},
   "source": [
    "# Models"
   ]
  },
  {
   "cell_type": "code",
   "execution_count": 5,
   "metadata": {},
   "outputs": [
    {
     "name": "stderr",
     "output_type": "stream",
     "text": [
      "c:\\Users\\Vitor\\anaconda3\\envs\\pred-env\\Lib\\site-packages\\sklearn\\linear_model\\_logistic.py:1186: UserWarning: Setting penalty=None will ignore the C and l1_ratio parameters\n",
      "  warnings.warn(\n",
      "c:\\Users\\Vitor\\anaconda3\\envs\\pred-env\\Lib\\site-packages\\sklearn\\linear_model\\_logistic.py:1186: UserWarning: Setting penalty=None will ignore the C and l1_ratio parameters\n",
      "  warnings.warn(\n",
      "c:\\Users\\Vitor\\anaconda3\\envs\\pred-env\\Lib\\site-packages\\sklearn\\linear_model\\_logistic.py:1186: UserWarning: Setting penalty=None will ignore the C and l1_ratio parameters\n",
      "  warnings.warn(\n",
      "c:\\Users\\Vitor\\anaconda3\\envs\\pred-env\\Lib\\site-packages\\sklearn\\linear_model\\_logistic.py:1186: UserWarning: Setting penalty=None will ignore the C and l1_ratio parameters\n",
      "  warnings.warn(\n",
      "c:\\Users\\Vitor\\anaconda3\\envs\\pred-env\\Lib\\site-packages\\sklearn\\linear_model\\_logistic.py:1186: UserWarning: Setting penalty=None will ignore the C and l1_ratio parameters\n",
      "  warnings.warn(\n",
      "c:\\Users\\Vitor\\anaconda3\\envs\\pred-env\\Lib\\site-packages\\sklearn\\linear_model\\_logistic.py:1186: UserWarning: Setting penalty=None will ignore the C and l1_ratio parameters\n",
      "  warnings.warn(\n",
      "c:\\Users\\Vitor\\anaconda3\\envs\\pred-env\\Lib\\site-packages\\sklearn\\linear_model\\_logistic.py:1186: UserWarning: Setting penalty=None will ignore the C and l1_ratio parameters\n",
      "  warnings.warn(\n",
      "c:\\Users\\Vitor\\anaconda3\\envs\\pred-env\\Lib\\site-packages\\sklearn\\linear_model\\_logistic.py:1186: UserWarning: Setting penalty=None will ignore the C and l1_ratio parameters\n",
      "  warnings.warn(\n",
      "c:\\Users\\Vitor\\anaconda3\\envs\\pred-env\\Lib\\site-packages\\sklearn\\linear_model\\_logistic.py:1186: UserWarning: Setting penalty=None will ignore the C and l1_ratio parameters\n",
      "  warnings.warn(\n",
      "c:\\Users\\Vitor\\anaconda3\\envs\\pred-env\\Lib\\site-packages\\sklearn\\linear_model\\_logistic.py:1186: UserWarning: Setting penalty=None will ignore the C and l1_ratio parameters\n",
      "  warnings.warn(\n",
      "c:\\Users\\Vitor\\anaconda3\\envs\\pred-env\\Lib\\site-packages\\sklearn\\linear_model\\_logistic.py:1186: UserWarning: Setting penalty=None will ignore the C and l1_ratio parameters\n",
      "  warnings.warn(\n",
      "c:\\Users\\Vitor\\anaconda3\\envs\\pred-env\\Lib\\site-packages\\sklearn\\linear_model\\_logistic.py:1186: UserWarning: Setting penalty=None will ignore the C and l1_ratio parameters\n",
      "  warnings.warn(\n",
      "c:\\Users\\Vitor\\anaconda3\\envs\\pred-env\\Lib\\site-packages\\sklearn\\linear_model\\_logistic.py:1186: UserWarning: Setting penalty=None will ignore the C and l1_ratio parameters\n",
      "  warnings.warn(\n",
      "c:\\Users\\Vitor\\anaconda3\\envs\\pred-env\\Lib\\site-packages\\sklearn\\linear_model\\_logistic.py:1186: UserWarning: Setting penalty=None will ignore the C and l1_ratio parameters\n",
      "  warnings.warn(\n",
      "c:\\Users\\Vitor\\anaconda3\\envs\\pred-env\\Lib\\site-packages\\sklearn\\linear_model\\_logistic.py:1186: UserWarning: Setting penalty=None will ignore the C and l1_ratio parameters\n",
      "  warnings.warn(\n",
      "c:\\Users\\Vitor\\anaconda3\\envs\\pred-env\\Lib\\site-packages\\sklearn\\linear_model\\_logistic.py:1186: UserWarning: Setting penalty=None will ignore the C and l1_ratio parameters\n",
      "  warnings.warn(\n",
      "c:\\Users\\Vitor\\anaconda3\\envs\\pred-env\\Lib\\site-packages\\sklearn\\linear_model\\_logistic.py:1186: UserWarning: Setting penalty=None will ignore the C and l1_ratio parameters\n",
      "  warnings.warn(\n",
      "c:\\Users\\Vitor\\anaconda3\\envs\\pred-env\\Lib\\site-packages\\sklearn\\linear_model\\_logistic.py:1186: UserWarning: Setting penalty=None will ignore the C and l1_ratio parameters\n",
      "  warnings.warn(\n",
      "c:\\Users\\Vitor\\anaconda3\\envs\\pred-env\\Lib\\site-packages\\sklearn\\linear_model\\_logistic.py:1186: UserWarning: Setting penalty=None will ignore the C and l1_ratio parameters\n",
      "  warnings.warn(\n",
      "c:\\Users\\Vitor\\anaconda3\\envs\\pred-env\\Lib\\site-packages\\sklearn\\linear_model\\_logistic.py:1186: UserWarning: Setting penalty=None will ignore the C and l1_ratio parameters\n",
      "  warnings.warn(\n",
      "c:\\Users\\Vitor\\anaconda3\\envs\\pred-env\\Lib\\site-packages\\sklearn\\linear_model\\_logistic.py:1186: UserWarning: Setting penalty=None will ignore the C and l1_ratio parameters\n",
      "  warnings.warn(\n",
      "c:\\Users\\Vitor\\anaconda3\\envs\\pred-env\\Lib\\site-packages\\sklearn\\linear_model\\_logistic.py:1186: UserWarning: Setting penalty=None will ignore the C and l1_ratio parameters\n",
      "  warnings.warn(\n",
      "c:\\Users\\Vitor\\anaconda3\\envs\\pred-env\\Lib\\site-packages\\sklearn\\linear_model\\_logistic.py:1186: UserWarning: Setting penalty=None will ignore the C and l1_ratio parameters\n",
      "  warnings.warn(\n",
      "c:\\Users\\Vitor\\anaconda3\\envs\\pred-env\\Lib\\site-packages\\sklearn\\linear_model\\_logistic.py:1186: UserWarning: Setting penalty=None will ignore the C and l1_ratio parameters\n",
      "  warnings.warn(\n",
      "c:\\Users\\Vitor\\anaconda3\\envs\\pred-env\\Lib\\site-packages\\sklearn\\linear_model\\_logistic.py:1186: UserWarning: Setting penalty=None will ignore the C and l1_ratio parameters\n",
      "  warnings.warn(\n",
      "c:\\Users\\Vitor\\anaconda3\\envs\\pred-env\\Lib\\site-packages\\sklearn\\linear_model\\_logistic.py:1186: UserWarning: Setting penalty=None will ignore the C and l1_ratio parameters\n",
      "  warnings.warn(\n",
      "c:\\Users\\Vitor\\anaconda3\\envs\\pred-env\\Lib\\site-packages\\sklearn\\linear_model\\_logistic.py:1186: UserWarning: Setting penalty=None will ignore the C and l1_ratio parameters\n",
      "  warnings.warn(\n",
      "c:\\Users\\Vitor\\anaconda3\\envs\\pred-env\\Lib\\site-packages\\sklearn\\linear_model\\_logistic.py:1186: UserWarning: Setting penalty=None will ignore the C and l1_ratio parameters\n",
      "  warnings.warn(\n",
      "c:\\Users\\Vitor\\anaconda3\\envs\\pred-env\\Lib\\site-packages\\sklearn\\linear_model\\_logistic.py:1186: UserWarning: Setting penalty=None will ignore the C and l1_ratio parameters\n",
      "  warnings.warn(\n",
      "c:\\Users\\Vitor\\anaconda3\\envs\\pred-env\\Lib\\site-packages\\sklearn\\linear_model\\_logistic.py:1186: UserWarning: Setting penalty=None will ignore the C and l1_ratio parameters\n",
      "  warnings.warn(\n",
      "c:\\Users\\Vitor\\anaconda3\\envs\\pred-env\\Lib\\site-packages\\sklearn\\model_selection\\_validation.py:542: FitFailedWarning: \n",
      "80 fits failed out of a total of 240.\n",
      "The score on these train-test partitions for these parameters will be set to nan.\n",
      "If these failures are not expected, you can try to debug them by setting error_score='raise'.\n",
      "\n",
      "Below are more details about the failures:\n",
      "--------------------------------------------------------------------------------\n",
      "40 fits failed with the following error:\n",
      "Traceback (most recent call last):\n",
      "  File \"c:\\Users\\Vitor\\anaconda3\\envs\\pred-env\\Lib\\site-packages\\sklearn\\model_selection\\_validation.py\", line 890, in _fit_and_score\n",
      "    estimator.fit(X_train, y_train, **fit_params)\n",
      "  File \"c:\\Users\\Vitor\\anaconda3\\envs\\pred-env\\Lib\\site-packages\\sklearn\\base.py\", line 1351, in wrapper\n",
      "    return fit_method(estimator, *args, **kwargs)\n",
      "           ^^^^^^^^^^^^^^^^^^^^^^^^^^^^^^^^^^^^^^\n",
      "  File \"c:\\Users\\Vitor\\anaconda3\\envs\\pred-env\\Lib\\site-packages\\sklearn\\linear_model\\_logistic.py\", line 1172, in fit\n",
      "    solver = _check_solver(self.solver, self.penalty, self.dual)\n",
      "             ^^^^^^^^^^^^^^^^^^^^^^^^^^^^^^^^^^^^^^^^^^^^^^^^^^^\n",
      "  File \"c:\\Users\\Vitor\\anaconda3\\envs\\pred-env\\Lib\\site-packages\\sklearn\\linear_model\\_logistic.py\", line 67, in _check_solver\n",
      "    raise ValueError(\n",
      "ValueError: Solver lbfgs supports only 'l2' or None penalties, got l1 penalty.\n",
      "\n",
      "--------------------------------------------------------------------------------\n",
      "40 fits failed with the following error:\n",
      "Traceback (most recent call last):\n",
      "  File \"c:\\Users\\Vitor\\anaconda3\\envs\\pred-env\\Lib\\site-packages\\sklearn\\model_selection\\_validation.py\", line 890, in _fit_and_score\n",
      "    estimator.fit(X_train, y_train, **fit_params)\n",
      "  File \"c:\\Users\\Vitor\\anaconda3\\envs\\pred-env\\Lib\\site-packages\\sklearn\\base.py\", line 1351, in wrapper\n",
      "    return fit_method(estimator, *args, **kwargs)\n",
      "           ^^^^^^^^^^^^^^^^^^^^^^^^^^^^^^^^^^^^^^\n",
      "  File \"c:\\Users\\Vitor\\anaconda3\\envs\\pred-env\\Lib\\site-packages\\sklearn\\linear_model\\_logistic.py\", line 1172, in fit\n",
      "    solver = _check_solver(self.solver, self.penalty, self.dual)\n",
      "             ^^^^^^^^^^^^^^^^^^^^^^^^^^^^^^^^^^^^^^^^^^^^^^^^^^^\n",
      "  File \"c:\\Users\\Vitor\\anaconda3\\envs\\pred-env\\Lib\\site-packages\\sklearn\\linear_model\\_logistic.py\", line 80, in _check_solver\n",
      "    raise ValueError(\"penalty=None is not supported for the liblinear solver\")\n",
      "ValueError: penalty=None is not supported for the liblinear solver\n",
      "\n",
      "  warnings.warn(some_fits_failed_message, FitFailedWarning)\n",
      "c:\\Users\\Vitor\\anaconda3\\envs\\pred-env\\Lib\\site-packages\\sklearn\\model_selection\\_search.py:1051: UserWarning: One or more of the test scores are non-finite: [0.90770788 0.90770782 0.90767828        nan        nan 0.907749\n",
      " 0.9026457  0.90274752 0.90263165        nan        nan 0.90316175\n",
      " 0.90773146 0.90773447 0.90771097        nan        nan 0.907749\n",
      " 0.90242204 0.90252674 0.90239278        nan        nan 0.90316175\n",
      " 0.90765259 0.90766197 0.90763593        nan        nan 0.907749\n",
      " 0.9017934  0.90195101 0.90151862        nan        nan 0.90316175\n",
      " 0.90029938 0.90041039 0.89516038        nan        nan 0.907749\n",
      " 0.80895296 0.82261836 0.76844383        nan        nan 0.90316175]\n",
      "  warnings.warn(\n",
      "c:\\Users\\Vitor\\anaconda3\\envs\\pred-env\\Lib\\site-packages\\sklearn\\model_selection\\_search.py:1051: UserWarning: One or more of the test scores are non-finite: [0.82257169 0.82257169 0.82257169        nan        nan 0.82257169\n",
      " 0.20342276 0.20777058 0.21211841        nan        nan 0.22941721\n",
      " 0.82257169 0.82257169 0.82257169        nan        nan 0.82257169\n",
      " 0.18621647 0.19481961 0.21211841        nan        nan 0.22941721\n",
      " 0.82257169 0.81831637 0.82257169        nan        nan 0.82257169\n",
      " 0.17752081 0.17752081 0.19481961        nan        nan 0.22941721\n",
      " 0.82247919 0.81387604 0.80971323        nan        nan 0.82257169\n",
      " 0.         0.         0.                nan        nan 0.22941721]\n",
      "  warnings.warn(\n"
     ]
    },
    {
     "ename": "AttributeError",
     "evalue": "'DAGsHubLogger' object has no attribute 'log_model'",
     "output_type": "error",
     "traceback": [
      "\u001b[1;31m---------------------------------------------------------------------------\u001b[0m",
      "\u001b[1;31mAttributeError\u001b[0m                            Traceback (most recent call last)",
      "Cell \u001b[1;32mIn[5], line 1\u001b[0m\n\u001b[1;32m----> 1\u001b[0m model_report \u001b[39m=\u001b[39m initiate_model_trainer((X_train_original, y_train_original, X_test_original, y_test_original), \u001b[39m\"\u001b[39;49m\u001b[39mtest_experiment\u001b[39;49m\u001b[39m\"\u001b[39;49m)\n",
      "File \u001b[1;32mc:\\Users\\Vitor\\Documents\\visual-code\\Pred Maintenance\\Notebooks\\..\\utils\\machine_learning.py:172\u001b[0m, in \u001b[0;36minitiate_model_trainer\u001b[1;34m(train_test, experiment_name)\u001b[0m\n\u001b[0;32m    141\u001b[0m models \u001b[39m=\u001b[39m {\n\u001b[0;32m    142\u001b[0m     \u001b[39m\"\u001b[39m\u001b[39mLogistic Regression\u001b[39m\u001b[39m\"\u001b[39m: LogisticRegression()\n\u001b[0;32m    143\u001b[0m     \u001b[39m# \"Decision Tree\": DecisionTreeClassifier(),\u001b[39;00m\n\u001b[0;32m    144\u001b[0m     \u001b[39m# \"Random Forest\": RandomForestClassifier(),\u001b[39;00m\n\u001b[0;32m    145\u001b[0m     \u001b[39m# \"KNN\": KNeighborsClassifier()\u001b[39;00m\n\u001b[0;32m    146\u001b[0m }\n\u001b[0;32m    148\u001b[0m params \u001b[39m=\u001b[39m {\n\u001b[0;32m    149\u001b[0m     \u001b[39m\"\u001b[39m\u001b[39mLogistic Regression\u001b[39m\u001b[39m\"\u001b[39m: {\n\u001b[0;32m    150\u001b[0m         \u001b[39m\"\u001b[39m\u001b[39msolver\u001b[39m\u001b[39m\"\u001b[39m: [\u001b[39m\"\u001b[39m\u001b[39mliblinear\u001b[39m\u001b[39m\"\u001b[39m, \u001b[39m\"\u001b[39m\u001b[39mlbfgs\u001b[39m\u001b[39m\"\u001b[39m],\n\u001b[1;32m   (...)\u001b[0m\n\u001b[0;32m    169\u001b[0m     \u001b[39m# }\u001b[39;00m\n\u001b[0;32m    170\u001b[0m }\n\u001b[1;32m--> 172\u001b[0m model_report \u001b[39m=\u001b[39m evaluate_models(X_train\u001b[39m=\u001b[39;49mX_train, y_train\u001b[39m=\u001b[39;49my_train, X_test\u001b[39m=\u001b[39;49mX_test, y_test\u001b[39m=\u001b[39;49my_test, models\u001b[39m=\u001b[39;49mmodels, params\u001b[39m=\u001b[39;49mparams, experiment_name\u001b[39m=\u001b[39;49mexperiment_name)\n\u001b[0;32m    174\u001b[0m \u001b[39mreturn\u001b[39;00m model_report\n",
      "File \u001b[1;32mc:\\Users\\Vitor\\Documents\\visual-code\\Pred Maintenance\\Notebooks\\..\\utils\\machine_learning.py:77\u001b[0m, in \u001b[0;36mevaluate_models\u001b[1;34m(X_train, y_train, X_test, y_test, models, params, experiment_name)\u001b[0m\n\u001b[0;32m     75\u001b[0m \u001b[39m# Log the model to DAGsHub\u001b[39;00m\n\u001b[0;32m     76\u001b[0m \u001b[39mwith\u001b[39;00m dagshub_logger() \u001b[39mas\u001b[39;00m logger:\n\u001b[1;32m---> 77\u001b[0m     logger\u001b[39m.\u001b[39;49mlog_model(model\u001b[39m=\u001b[39mmodel, metrics\u001b[39m=\u001b[39m{\u001b[39m\"\u001b[39m\u001b[39mf1_score\u001b[39m\u001b[39m\"\u001b[39m: f1, \u001b[39m\"\u001b[39m\u001b[39mroc_auc_score\u001b[39m\u001b[39m\"\u001b[39m: roc_auc, \u001b[39m\"\u001b[39m\u001b[39mrecall_score\u001b[39m\u001b[39m\"\u001b[39m: recall})\n\u001b[0;32m     79\u001b[0m \u001b[39m# Store the model and predictions for visualization\u001b[39;00m\n\u001b[0;32m     80\u001b[0m report[model_name] \u001b[39m=\u001b[39m {\u001b[39m\"\u001b[39m\u001b[39mf1_score\u001b[39m\u001b[39m\"\u001b[39m: f1, \u001b[39m\"\u001b[39m\u001b[39mroc_auc_score\u001b[39m\u001b[39m\"\u001b[39m: roc_auc, \u001b[39m\"\u001b[39m\u001b[39mrecall_score\u001b[39m\u001b[39m\"\u001b[39m: recall, \u001b[39m\"\u001b[39m\u001b[39mmodel\u001b[39m\u001b[39m\"\u001b[39m: model, \u001b[39m\"\u001b[39m\u001b[39my_test_pred\u001b[39m\u001b[39m\"\u001b[39m: y_test_pred}\n",
      "\u001b[1;31mAttributeError\u001b[0m: 'DAGsHubLogger' object has no attribute 'log_model'"
     ]
    }
   ],
   "source": [
    "model_report = initiate_model_trainer((X_train_original, y_train_original, X_test_original, y_test_original), \"test_experiment\")"
   ]
  },
  {
   "cell_type": "code",
   "execution_count": null,
   "metadata": {},
   "outputs": [],
   "source": []
  }
 ],
 "metadata": {
  "kernelspec": {
   "display_name": "pred-env",
   "language": "python",
   "name": "python3"
  },
  "language_info": {
   "codemirror_mode": {
    "name": "ipython",
    "version": 3
   },
   "file_extension": ".py",
   "mimetype": "text/x-python",
   "name": "python",
   "nbconvert_exporter": "python",
   "pygments_lexer": "ipython3",
   "version": "3.11.7"
  }
 },
 "nbformat": 4,
 "nbformat_minor": 2
}
